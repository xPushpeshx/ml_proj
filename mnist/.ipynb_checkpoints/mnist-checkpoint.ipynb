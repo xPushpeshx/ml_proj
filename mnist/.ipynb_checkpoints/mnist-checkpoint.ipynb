{
 "cells": [
  {
   "cell_type": "code",
   "execution_count": 91,
   "id": "b63d0ed4-a431-4105-806f-3a9036f61f1e",
   "metadata": {},
   "outputs": [],
   "source": [
    "import numpy as np\n",
    "import pandas as pd\n",
    "import matplotlib.pyplot as plt\n",
    "import matplotlib.image as mpimg\n",
    "import cv2\n",
    "import tensorflow as tf\n"
   ]
  },
  {
   "cell_type": "code",
   "execution_count": 137,
   "id": "c6b760b9-2770-4106-be55-3bf140819355",
   "metadata": {},
   "outputs": [],
   "source": [
    "from keras.datasets import mnist\n",
    "\n",
    "(x_train,y_train),(x_test,y_test)=mnist.load_data()"
   ]
  },
  {
   "cell_type": "code",
   "execution_count": 138,
   "id": "47d69b55-72dc-42d4-b11e-07b46f09f76e",
   "metadata": {},
   "outputs": [
    {
     "data": {
      "text/plain": [
       "(array([5, 0, 4, ..., 5, 6, 8], dtype=uint8),\n",
       " array([7, 2, 1, ..., 4, 5, 6], dtype=uint8))"
      ]
     },
     "execution_count": 138,
     "metadata": {},
     "output_type": "execute_result"
    }
   ],
   "source": [
    "y_train,y_test"
   ]
  },
  {
   "cell_type": "code",
   "execution_count": 139,
   "id": "3e08c451-eff6-447a-aa7c-4ede83fa4ca4",
   "metadata": {},
   "outputs": [],
   "source": [
    "num_digits = 10\n",
    "y_train = tf.keras.utils.to_categorical(y_train, num_digits)\n",
    "y_test = tf.keras.utils.to_categorical(y_test, num_digits)"
   ]
  },
  {
   "cell_type": "code",
   "execution_count": 140,
   "id": "ef13f83f-d5a0-43a3-9b83-e53118b90244",
   "metadata": {},
   "outputs": [
    {
     "data": {
      "text/plain": [
       "array([[  0,   0,   0,   0,   0,   0,   0,   0,   0,   0,   0,   0,   0,\n",
       "          0,   0,   0,   0,   0,   0,   0,   0,   0,   0,   0,   0,   0,\n",
       "          0,   0],\n",
       "       [  0,   0,   0,   0,   0,   0,   0,   0,   0,   0,   0,   0,   0,\n",
       "          0,   0,   0,   0,   0,   0,   0,   0,   0,   0,   0,   0,   0,\n",
       "          0,   0],\n",
       "       [  0,   0,   0,   0,   0,   0,   0,   0,   0,   0,   0,   0,   0,\n",
       "          0,   0,   0,   0,   0,   0,   0,   0,   0,   0,   0,   0,   0,\n",
       "          0,   0],\n",
       "       [  0,   0,   0,   0,   0,   0,   0,   0,   0,   0,   0,   0,   0,\n",
       "          0,   0,   0,   0,   0,   0,   0,   0,   0,   0,   0,   0,   0,\n",
       "          0,   0],\n",
       "       [  0,   0,   0,   0,   0,   0,   0,   0,   0,   0,   0,   0,   0,\n",
       "          0,   0,  51, 159, 253, 159,  50,   0,   0,   0,   0,   0,   0,\n",
       "          0,   0],\n",
       "       [  0,   0,   0,   0,   0,   0,   0,   0,   0,   0,   0,   0,   0,\n",
       "          0,  48, 238, 252, 252, 252, 237,   0,   0,   0,   0,   0,   0,\n",
       "          0,   0],\n",
       "       [  0,   0,   0,   0,   0,   0,   0,   0,   0,   0,   0,   0,   0,\n",
       "         54, 227, 253, 252, 239, 233, 252,  57,   6,   0,   0,   0,   0,\n",
       "          0,   0],\n",
       "       [  0,   0,   0,   0,   0,   0,   0,   0,   0,   0,   0,  10,  60,\n",
       "        224, 252, 253, 252, 202,  84, 252, 253, 122,   0,   0,   0,   0,\n",
       "          0,   0],\n",
       "       [  0,   0,   0,   0,   0,   0,   0,   0,   0,   0,   0, 163, 252,\n",
       "        252, 252, 253, 252, 252,  96, 189, 253, 167,   0,   0,   0,   0,\n",
       "          0,   0],\n",
       "       [  0,   0,   0,   0,   0,   0,   0,   0,   0,   0,  51, 238, 253,\n",
       "        253, 190, 114, 253, 228,  47,  79, 255, 168,   0,   0,   0,   0,\n",
       "          0,   0],\n",
       "       [  0,   0,   0,   0,   0,   0,   0,   0,   0,  48, 238, 252, 252,\n",
       "        179,  12,  75, 121,  21,   0,   0, 253, 243,  50,   0,   0,   0,\n",
       "          0,   0],\n",
       "       [  0,   0,   0,   0,   0,   0,   0,   0,  38, 165, 253, 233, 208,\n",
       "         84,   0,   0,   0,   0,   0,   0, 253, 252, 165,   0,   0,   0,\n",
       "          0,   0],\n",
       "       [  0,   0,   0,   0,   0,   0,   0,   7, 178, 252, 240,  71,  19,\n",
       "         28,   0,   0,   0,   0,   0,   0, 253, 252, 195,   0,   0,   0,\n",
       "          0,   0],\n",
       "       [  0,   0,   0,   0,   0,   0,   0,  57, 252, 252,  63,   0,   0,\n",
       "          0,   0,   0,   0,   0,   0,   0, 253, 252, 195,   0,   0,   0,\n",
       "          0,   0],\n",
       "       [  0,   0,   0,   0,   0,   0,   0, 198, 253, 190,   0,   0,   0,\n",
       "          0,   0,   0,   0,   0,   0,   0, 255, 253, 196,   0,   0,   0,\n",
       "          0,   0],\n",
       "       [  0,   0,   0,   0,   0,   0,  76, 246, 252, 112,   0,   0,   0,\n",
       "          0,   0,   0,   0,   0,   0,   0, 253, 252, 148,   0,   0,   0,\n",
       "          0,   0],\n",
       "       [  0,   0,   0,   0,   0,   0,  85, 252, 230,  25,   0,   0,   0,\n",
       "          0,   0,   0,   0,   0,   7, 135, 253, 186,  12,   0,   0,   0,\n",
       "          0,   0],\n",
       "       [  0,   0,   0,   0,   0,   0,  85, 252, 223,   0,   0,   0,   0,\n",
       "          0,   0,   0,   0,   7, 131, 252, 225,  71,   0,   0,   0,   0,\n",
       "          0,   0],\n",
       "       [  0,   0,   0,   0,   0,   0,  85, 252, 145,   0,   0,   0,   0,\n",
       "          0,   0,   0,  48, 165, 252, 173,   0,   0,   0,   0,   0,   0,\n",
       "          0,   0],\n",
       "       [  0,   0,   0,   0,   0,   0,  86, 253, 225,   0,   0,   0,   0,\n",
       "          0,   0, 114, 238, 253, 162,   0,   0,   0,   0,   0,   0,   0,\n",
       "          0,   0],\n",
       "       [  0,   0,   0,   0,   0,   0,  85, 252, 249, 146,  48,  29,  85,\n",
       "        178, 225, 253, 223, 167,  56,   0,   0,   0,   0,   0,   0,   0,\n",
       "          0,   0],\n",
       "       [  0,   0,   0,   0,   0,   0,  85, 252, 252, 252, 229, 215, 252,\n",
       "        252, 252, 196, 130,   0,   0,   0,   0,   0,   0,   0,   0,   0,\n",
       "          0,   0],\n",
       "       [  0,   0,   0,   0,   0,   0,  28, 199, 252, 252, 253, 252, 252,\n",
       "        233, 145,   0,   0,   0,   0,   0,   0,   0,   0,   0,   0,   0,\n",
       "          0,   0],\n",
       "       [  0,   0,   0,   0,   0,   0,   0,  25, 128, 252, 253, 252, 141,\n",
       "         37,   0,   0,   0,   0,   0,   0,   0,   0,   0,   0,   0,   0,\n",
       "          0,   0],\n",
       "       [  0,   0,   0,   0,   0,   0,   0,   0,   0,   0,   0,   0,   0,\n",
       "          0,   0,   0,   0,   0,   0,   0,   0,   0,   0,   0,   0,   0,\n",
       "          0,   0],\n",
       "       [  0,   0,   0,   0,   0,   0,   0,   0,   0,   0,   0,   0,   0,\n",
       "          0,   0,   0,   0,   0,   0,   0,   0,   0,   0,   0,   0,   0,\n",
       "          0,   0],\n",
       "       [  0,   0,   0,   0,   0,   0,   0,   0,   0,   0,   0,   0,   0,\n",
       "          0,   0,   0,   0,   0,   0,   0,   0,   0,   0,   0,   0,   0,\n",
       "          0,   0],\n",
       "       [  0,   0,   0,   0,   0,   0,   0,   0,   0,   0,   0,   0,   0,\n",
       "          0,   0,   0,   0,   0,   0,   0,   0,   0,   0,   0,   0,   0,\n",
       "          0,   0]], dtype=uint8)"
      ]
     },
     "execution_count": 140,
     "metadata": {},
     "output_type": "execute_result"
    }
   ],
   "source": [
    "x_train[1]"
   ]
  },
  {
   "cell_type": "code",
   "execution_count": 141,
   "id": "d5bed5a5-501e-479a-9698-366ec294d903",
   "metadata": {},
   "outputs": [
    {
     "name": "stdout",
     "output_type": "stream",
     "text": [
      "(10000, 10)\n",
      "(10000, 28, 28)\n"
     ]
    }
   ],
   "source": [
    "print(y_test.shape)\n",
    "print(x_test.shape)"
   ]
  },
  {
   "cell_type": "code",
   "execution_count": 142,
   "id": "258fc7b1-05fd-40d0-bde7-54ff95aa7157",
   "metadata": {},
   "outputs": [],
   "source": [
    "from tensorflow.keras.models import Sequential\n",
    "from tensorflow.keras.layers import Dense , Conv2D , MaxPool2D , Flatten , Dropout"
   ]
  },
  {
   "cell_type": "code",
   "execution_count": 143,
   "id": "d9acaef5-d9e6-475d-a871-d22b964417f3",
   "metadata": {},
   "outputs": [],
   "source": [
    "def create_model():\n",
    "    model=Sequential([\n",
    "        Conv2D(32,kernel_size=(3,3),activation=\"relu\",input_shape=(28,28,1)),\n",
    "        MaxPool2D((2,2)),\n",
    "        Flatten(),\n",
    "        Dense(128, activation='relu'),\n",
    "        Dense(64, activation='relu'),\n",
    "        Dense(10, activation='softmax')])\n",
    "    model.compile(optimizer='adam',loss='categorical_crossentropy',metrics=['accuracy'])\n",
    "    return model\n",
    "    "
   ]
  },
  {
   "cell_type": "code",
   "execution_count": 144,
   "id": "fb99e2ff-fdb4-479c-be93-f53f809b63f6",
   "metadata": {},
   "outputs": [
    {
     "name": "stdout",
     "output_type": "stream",
     "text": [
      "Model: \"sequential_16\"\n",
      "_________________________________________________________________\n",
      " Layer (type)                Output Shape              Param #   \n",
      "=================================================================\n",
      " conv2d_16 (Conv2D)          (None, 26, 26, 32)        320       \n",
      "                                                                 \n",
      " max_pooling2d_16 (MaxPoolin  (None, 13, 13, 32)       0         \n",
      " g2D)                                                            \n",
      "                                                                 \n",
      " flatten_16 (Flatten)        (None, 5408)              0         \n",
      "                                                                 \n",
      " dense_48 (Dense)            (None, 128)               692352    \n",
      "                                                                 \n",
      " dense_49 (Dense)            (None, 64)                8256      \n",
      "                                                                 \n",
      " dense_50 (Dense)            (None, 10)                650       \n",
      "                                                                 \n",
      "=================================================================\n",
      "Total params: 701,578\n",
      "Trainable params: 701,578\n",
      "Non-trainable params: 0\n",
      "_________________________________________________________________\n"
     ]
    }
   ],
   "source": [
    "model=create_model()\n",
    "model.summary()"
   ]
  },
  {
   "cell_type": "code",
   "execution_count": 145,
   "id": "da3abfb4-544d-4b79-907b-7c2e54d31546",
   "metadata": {},
   "outputs": [
    {
     "name": "stdout",
     "output_type": "stream",
     "text": [
      "Epoch 1/25\n",
      "469/469 [==============================] - 6s 11ms/step - loss: 0.5941 - accuracy: 0.9174 - val_loss: 0.1131 - val_accuracy: 0.9658\n",
      "Epoch 2/25\n",
      "469/469 [==============================] - 5s 11ms/step - loss: 0.0839 - accuracy: 0.9753 - val_loss: 0.0849 - val_accuracy: 0.9756\n",
      "Epoch 3/25\n",
      "469/469 [==============================] - 5s 10ms/step - loss: 0.0519 - accuracy: 0.9838 - val_loss: 0.0888 - val_accuracy: 0.9761\n",
      "Epoch 4/25\n",
      "469/469 [==============================] - 4s 8ms/step - loss: 0.0369 - accuracy: 0.9884 - val_loss: 0.0750 - val_accuracy: 0.9793\n",
      "Epoch 5/25\n",
      "469/469 [==============================] - 4s 8ms/step - loss: 0.0293 - accuracy: 0.9906 - val_loss: 0.0715 - val_accuracy: 0.9813\n",
      "Epoch 6/25\n",
      "469/469 [==============================] - 4s 8ms/step - loss: 0.0230 - accuracy: 0.9921 - val_loss: 0.0856 - val_accuracy: 0.9790\n",
      "Epoch 7/25\n",
      "469/469 [==============================] - 4s 8ms/step - loss: 0.0231 - accuracy: 0.9919 - val_loss: 0.0945 - val_accuracy: 0.9789\n",
      "Epoch 8/25\n",
      "469/469 [==============================] - 4s 8ms/step - loss: 0.0240 - accuracy: 0.9918 - val_loss: 0.0831 - val_accuracy: 0.9815\n",
      "Epoch 9/25\n",
      "469/469 [==============================] - 4s 8ms/step - loss: 0.0185 - accuracy: 0.9938 - val_loss: 0.1084 - val_accuracy: 0.9801\n",
      "Epoch 10/25\n",
      "469/469 [==============================] - 4s 8ms/step - loss: 0.0175 - accuracy: 0.9943 - val_loss: 0.0930 - val_accuracy: 0.9795\n",
      "Epoch 11/25\n",
      "469/469 [==============================] - 4s 8ms/step - loss: 0.0160 - accuracy: 0.9947 - val_loss: 0.1065 - val_accuracy: 0.9781\n",
      "Epoch 12/25\n",
      "469/469 [==============================] - 4s 8ms/step - loss: 0.0182 - accuracy: 0.9942 - val_loss: 0.0907 - val_accuracy: 0.9809\n",
      "Epoch 13/25\n",
      "469/469 [==============================] - 4s 8ms/step - loss: 0.0143 - accuracy: 0.9952 - val_loss: 0.1006 - val_accuracy: 0.9808\n",
      "Epoch 14/25\n",
      "469/469 [==============================] - 4s 8ms/step - loss: 0.0130 - accuracy: 0.9959 - val_loss: 0.0941 - val_accuracy: 0.9814\n",
      "Epoch 15/25\n",
      "469/469 [==============================] - 4s 8ms/step - loss: 0.0116 - accuracy: 0.9964 - val_loss: 0.1078 - val_accuracy: 0.9817\n",
      "Epoch 16/25\n",
      "469/469 [==============================] - 4s 8ms/step - loss: 0.0133 - accuracy: 0.9957 - val_loss: 0.0972 - val_accuracy: 0.9808\n",
      "Epoch 17/25\n",
      "469/469 [==============================] - 4s 8ms/step - loss: 0.0086 - accuracy: 0.9972 - val_loss: 0.0989 - val_accuracy: 0.9828\n",
      "Epoch 18/25\n",
      "469/469 [==============================] - 4s 8ms/step - loss: 0.0130 - accuracy: 0.9959 - val_loss: 0.1090 - val_accuracy: 0.9807\n",
      "Epoch 19/25\n",
      "469/469 [==============================] - 4s 8ms/step - loss: 0.0124 - accuracy: 0.9961 - val_loss: 0.1159 - val_accuracy: 0.9813\n",
      "Epoch 20/25\n",
      "469/469 [==============================] - 4s 8ms/step - loss: 0.0106 - accuracy: 0.9968 - val_loss: 0.1069 - val_accuracy: 0.9805\n",
      "Epoch 21/25\n",
      "469/469 [==============================] - 4s 8ms/step - loss: 0.0066 - accuracy: 0.9979 - val_loss: 0.1201 - val_accuracy: 0.9808\n",
      "Epoch 22/25\n",
      "469/469 [==============================] - 5s 11ms/step - loss: 0.0103 - accuracy: 0.9969 - val_loss: 0.1182 - val_accuracy: 0.9809\n",
      "Epoch 23/25\n",
      "469/469 [==============================] - 8s 16ms/step - loss: 0.0097 - accuracy: 0.9970 - val_loss: 0.1266 - val_accuracy: 0.9810\n",
      "Epoch 24/25\n",
      "469/469 [==============================] - 8s 18ms/step - loss: 0.0091 - accuracy: 0.9971 - val_loss: 0.1275 - val_accuracy: 0.9819\n",
      "Epoch 25/25\n",
      "469/469 [==============================] - 8s 18ms/step - loss: 0.0064 - accuracy: 0.9979 - val_loss: 0.1452 - val_accuracy: 0.9804\n"
     ]
    }
   ],
   "source": [
    "history=model.fit(x_train,y_train,epochs=25,validation_data=(x_test,y_test),batch_size=128)"
   ]
  },
  {
   "cell_type": "code",
   "execution_count": 146,
   "id": "8c89b4a4-0568-4f60-a7b1-d079a2ada19d",
   "metadata": {},
   "outputs": [
    {
     "name": "stdout",
     "output_type": "stream",
     "text": [
      "313/313 [==============================] - 2s 5ms/step\n"
     ]
    },
    {
     "data": {
      "text/plain": [
       "array([[4.1897459e-30, 1.1166507e-20, 2.4994515e-18, ..., 1.0000000e+00,\n",
       "        9.7481448e-22, 7.5117241e-21],\n",
       "       [5.5434007e-23, 1.3749370e-17, 1.0000000e+00, ..., 3.1070261e-32,\n",
       "        1.9586140e-23, 0.0000000e+00],\n",
       "       [5.6203338e-22, 1.0000000e+00, 4.3071332e-25, ..., 1.4850015e-16,\n",
       "        2.4841123e-16, 2.1095919e-22],\n",
       "       ...,\n",
       "       [4.5892538e-27, 7.3573183e-18, 3.4778008e-20, ..., 1.5973250e-15,\n",
       "        3.9198494e-10, 7.9367374e-16],\n",
       "       [1.7632591e-18, 2.5809467e-19, 8.0855909e-31, ..., 4.4620113e-19,\n",
       "        1.2037110e-08, 2.9536386e-16],\n",
       "       [3.7984922e-19, 6.6144157e-23, 8.4685857e-31, ..., 2.0994775e-21,\n",
       "        2.5661467e-23, 1.7783557e-19]], dtype=float32)"
      ]
     },
     "execution_count": 146,
     "metadata": {},
     "output_type": "execute_result"
    }
   ],
   "source": [
    "y_pred=model.predict(x_test)\n",
    "y_pred"
   ]
  },
  {
   "cell_type": "code",
   "execution_count": 147,
   "id": "5f2ce1aa-1f5f-440e-8fce-beff32d5c9f8",
   "metadata": {},
   "outputs": [],
   "source": [
    "#argmax return max value index\n",
    "y_pred1= [np.argmax(i) for i in y_pred]\n",
    "y_test= [np.argmax(i) for i in y_test]"
   ]
  },
  {
   "cell_type": "code",
   "execution_count": 148,
   "id": "9d401255-7c7d-490d-bed0-a57d2df16493",
   "metadata": {},
   "outputs": [
    {
     "name": "stdout",
     "output_type": "stream",
     "text": [
      "[6.2839483e-28 3.1189352e-18 2.4043453e-22 4.0397097e-35 1.0000000e+00\n",
      " 2.2171581e-23 6.3277670e-16 4.9707804e-22 3.2733847e-13 3.6186529e-16]\n",
      "4\n",
      "4\n"
     ]
    }
   ],
   "source": [
    "n=4\n",
    "print(y_pred[n])\n",
    "print(y_pred1[n])\n",
    "print(y_test[n])"
   ]
  },
  {
   "cell_type": "code",
   "execution_count": 149,
   "id": "b1fd884f-554c-47d7-b24a-bfa83633e3f8",
   "metadata": {},
   "outputs": [
    {
     "name": "stdout",
     "output_type": "stream",
     "text": [
      "              precision    recall  f1-score   support\n",
      "\n",
      "           0       0.99      0.98      0.99       994\n",
      "           1       0.99      0.99      0.99      1134\n",
      "           2       0.97      0.99      0.98      1014\n",
      "           3       0.98      0.99      0.98      1005\n",
      "           4       0.98      0.99      0.99       969\n",
      "           5       0.98      0.98      0.98       893\n",
      "           6       0.98      0.99      0.98       944\n",
      "           7       0.98      0.99      0.98      1017\n",
      "           8       0.99      0.94      0.96      1022\n",
      "           9       0.97      0.97      0.97      1008\n",
      "\n",
      "    accuracy                           0.98     10000\n",
      "   macro avg       0.98      0.98      0.98     10000\n",
      "weighted avg       0.98      0.98      0.98     10000\n",
      "\n"
     ]
    }
   ],
   "source": [
    "from sklearn.metrics import confusion_matrix, classification_report\n",
    "print(classification_report(y_pred1,y_test))"
   ]
  },
  {
   "cell_type": "code",
   "execution_count": 172,
   "id": "5fa83685-a674-41b2-befc-a8e4c603a067",
   "metadata": {},
   "outputs": [
    {
     "data": {
      "text/plain": [
       "Text(0.5, 1.0, 'Training and Validation Loss')"
      ]
     },
     "execution_count": 172,
     "metadata": {},
     "output_type": "execute_result"
    },
    {
     "data": {
      "image/png": "[encoded data removed]",
      "text/plain": [
       "<Figure size 640x480 with 2 Axes>"
      ]
     },
     "metadata": {},
     "output_type": "display_data"
    }
   ],
   "source": [
    "plt.subplot(1,2,1)\n",
    "plt.plot(history.history['accuracy'], label='Training Accuracy')\n",
    "plt.plot(history.history['val_accuracy'], label='Validation Accuracy')\n",
    "plt.legend(loc='lower right')\n",
    "plt.title('Training and Validation Accuracy')\n",
    "\n",
    "plt.subplot(1, 2, 2)\n",
    "plt.plot(history.history['loss'], label='Training Loss')\n",
    "plt.plot(history.history['val_loss'], label='Validation Loss')\n",
    "plt.legend(loc='upper right')\n",
    "plt.title('Training and Validation Loss')"
   ]
  },
  {
   "cell_type": "code",
   "execution_count": null,
   "id": "dc1a2ece-aec1-456b-857d-da9b977200be",
   "metadata": {},
   "outputs": [],
   "source": []
  }
 ],
 "metadata": {
  "kernelspec": {
   "display_name": "Python 3 (ipykernel)",
   "language": "python",
   "name": "python3"
  },
  "language_info": {
   "codemirror_mode": {
    "name": "ipython",
    "version": 3
   },
   "file_extension": ".py",
   "mimetype": "text/x-python",
   "name": "python",
   "nbconvert_exporter": "python",
   "pygments_lexer": "ipython3",
   "version": "3.10.6"
  }
 },
 "nbformat": 4,
 "nbformat_minor": 5
}
